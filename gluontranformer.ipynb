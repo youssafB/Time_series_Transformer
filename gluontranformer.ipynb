{
  "nbformat": 4,
  "nbformat_minor": 0,
  "metadata": {
    "colab": {
      "provenance": [],
      "mount_file_id": "1gHsg2wIdupY5RvX8A2V6TK2qDwegFhZ5",
      "authorship_tag": "ABX9TyO2/UkUuHsluTN9aKoexHPd",
      "include_colab_link": true
    },
    "kernelspec": {
      "name": "python3",
      "display_name": "Python 3"
    },
    "language_info": {
      "name": "python"
    }
  },
  "cells": [
    {
      "cell_type": "markdown",
      "metadata": {
        "id": "view-in-github",
        "colab_type": "text"
      },
      "source": [
        "<a href=\"https://colab.research.google.com/github/youssafB/Time_series_Transformer/blob/main/gluontranformer.ipynb\" target=\"_parent\"><img src=\"https://colab.research.google.com/assets/colab-badge.svg\" alt=\"Open In Colab\"/></a>"
      ]
    },
    {
      "cell_type": "code",
      "execution_count": 1,
      "metadata": {
        "id": "OXzZRplkeg-H"
      },
      "outputs": [],
      "source": [
        "!pip install -q transformers"
      ]
    },
    {
      "cell_type": "code",
      "source": [
        "!pip install -q datasets"
      ],
      "metadata": {
        "id": "x1hwdwMgejZq",
        "colab": {
          "base_uri": "https://localhost:8080/"
        },
        "outputId": "c81973c6-5753-4aac-e3d2-bfe96269fcbe"
      },
      "execution_count": 2,
      "outputs": [
        {
          "output_type": "stream",
          "name": "stdout",
          "text": [
            "\u001b[?25l   \u001b[90m━━━━━━━━━━━━━━━━━━━━━━━━━━━━━━━━━━━━━━━━\u001b[0m \u001b[32m0.0/480.6 kB\u001b[0m \u001b[31m?\u001b[0m eta \u001b[36m-:--:--\u001b[0m\r\u001b[2K   \u001b[91m━━━━━━━━━━━━━━━━━━━━━━━━━━━━━━━━━━━━━━━\u001b[0m\u001b[90m╺\u001b[0m \u001b[32m471.0/480.6 kB\u001b[0m \u001b[31m18.5 MB/s\u001b[0m eta \u001b[36m0:00:01\u001b[0m\r\u001b[2K   \u001b[90m━━━━━━━━━━━━━━━━━━━━━━━━━━━━━━━━━━━━━━━━\u001b[0m \u001b[32m480.6/480.6 kB\u001b[0m \u001b[31m9.8 MB/s\u001b[0m eta \u001b[36m0:00:00\u001b[0m\n",
            "\u001b[?25h\u001b[?25l   \u001b[90m━━━━━━━━━━━━━━━━━━━━━━━━━━━━━━━━━━━━━━━━\u001b[0m \u001b[32m0.0/116.3 kB\u001b[0m \u001b[31m?\u001b[0m eta \u001b[36m-:--:--\u001b[0m\r\u001b[2K   \u001b[90m━━━━━━━━━━━━━━━━━━━━━━━━━━━━━━━━━━━━━━━━\u001b[0m \u001b[32m116.3/116.3 kB\u001b[0m \u001b[31m5.9 MB/s\u001b[0m eta \u001b[36m0:00:00\u001b[0m\n",
            "\u001b[?25h\u001b[?25l   \u001b[90m━━━━━━━━━━━━━━━━━━━━━━━━━━━━━━━━━━━━━━━━\u001b[0m \u001b[32m0.0/179.3 kB\u001b[0m \u001b[31m?\u001b[0m eta \u001b[36m-:--:--\u001b[0m\r\u001b[2K   \u001b[90m━━━━━━━━━━━━━━━━━━━━━━━━━━━━━━━━━━━━━━━━\u001b[0m \u001b[32m179.3/179.3 kB\u001b[0m \u001b[31m9.6 MB/s\u001b[0m eta \u001b[36m0:00:00\u001b[0m\n",
            "\u001b[?25h\u001b[?25l   \u001b[90m━━━━━━━━━━━━━━━━━━━━━━━━━━━━━━━━━━━━━━━━\u001b[0m \u001b[32m0.0/143.5 kB\u001b[0m \u001b[31m?\u001b[0m eta \u001b[36m-:--:--\u001b[0m\r\u001b[2K   \u001b[90m━━━━━━━━━━━━━━━━━━━━━━━━━━━━━━━━━━━━━━━━\u001b[0m \u001b[32m143.5/143.5 kB\u001b[0m \u001b[31m10.4 MB/s\u001b[0m eta \u001b[36m0:00:00\u001b[0m\n",
            "\u001b[?25h\u001b[?25l   \u001b[90m━━━━━━━━━━━━━━━━━━━━━━━━━━━━━━━━━━━━━━━━\u001b[0m \u001b[32m0.0/194.8 kB\u001b[0m \u001b[31m?\u001b[0m eta \u001b[36m-:--:--\u001b[0m\r\u001b[2K   \u001b[90m━━━━━━━━━━━━━━━━━━━━━━━━━━━━━━━━━━━━━━━━\u001b[0m \u001b[32m194.8/194.8 kB\u001b[0m \u001b[31m10.6 MB/s\u001b[0m eta \u001b[36m0:00:00\u001b[0m\n",
            "\u001b[?25h\u001b[31mERROR: pip's dependency resolver does not currently take into account all the packages that are installed. This behaviour is the source of the following dependency conflicts.\n",
            "torch 2.5.1+cu124 requires nvidia-cublas-cu12==12.4.5.8; platform_system == \"Linux\" and platform_machine == \"x86_64\", but you have nvidia-cublas-cu12 12.5.3.2 which is incompatible.\n",
            "torch 2.5.1+cu124 requires nvidia-cuda-cupti-cu12==12.4.127; platform_system == \"Linux\" and platform_machine == \"x86_64\", but you have nvidia-cuda-cupti-cu12 12.5.82 which is incompatible.\n",
            "torch 2.5.1+cu124 requires nvidia-cuda-nvrtc-cu12==12.4.127; platform_system == \"Linux\" and platform_machine == \"x86_64\", but you have nvidia-cuda-nvrtc-cu12 12.5.82 which is incompatible.\n",
            "torch 2.5.1+cu124 requires nvidia-cuda-runtime-cu12==12.4.127; platform_system == \"Linux\" and platform_machine == \"x86_64\", but you have nvidia-cuda-runtime-cu12 12.5.82 which is incompatible.\n",
            "torch 2.5.1+cu124 requires nvidia-cudnn-cu12==9.1.0.70; platform_system == \"Linux\" and platform_machine == \"x86_64\", but you have nvidia-cudnn-cu12 9.3.0.75 which is incompatible.\n",
            "torch 2.5.1+cu124 requires nvidia-cufft-cu12==11.2.1.3; platform_system == \"Linux\" and platform_machine == \"x86_64\", but you have nvidia-cufft-cu12 11.2.3.61 which is incompatible.\n",
            "torch 2.5.1+cu124 requires nvidia-curand-cu12==10.3.5.147; platform_system == \"Linux\" and platform_machine == \"x86_64\", but you have nvidia-curand-cu12 10.3.6.82 which is incompatible.\n",
            "torch 2.5.1+cu124 requires nvidia-cusolver-cu12==11.6.1.9; platform_system == \"Linux\" and platform_machine == \"x86_64\", but you have nvidia-cusolver-cu12 11.6.3.83 which is incompatible.\n",
            "torch 2.5.1+cu124 requires nvidia-cusparse-cu12==12.3.1.170; platform_system == \"Linux\" and platform_machine == \"x86_64\", but you have nvidia-cusparse-cu12 12.5.1.3 which is incompatible.\n",
            "torch 2.5.1+cu124 requires nvidia-nvjitlink-cu12==12.4.127; platform_system == \"Linux\" and platform_machine == \"x86_64\", but you have nvidia-nvjitlink-cu12 12.5.82 which is incompatible.\n",
            "gcsfs 2024.10.0 requires fsspec==2024.10.0, but you have fsspec 2024.9.0 which is incompatible.\u001b[0m\u001b[31m\n",
            "\u001b[0m"
          ]
        }
      ]
    },
    {
      "cell_type": "code",
      "source": [
        "!pip install -q evaluate"
      ],
      "metadata": {
        "id": "A6T_sMY7ellZ",
        "colab": {
          "base_uri": "https://localhost:8080/"
        },
        "outputId": "3adf636a-5996-4842-8d1d-f86268d9efc4"
      },
      "execution_count": 3,
      "outputs": [
        {
          "output_type": "stream",
          "name": "stdout",
          "text": [
            "\u001b[?25l   \u001b[90m━━━━━━━━━━━━━━━━━━━━━━━━━━━━━━━━━━━━━━━━\u001b[0m \u001b[32m0.0/84.0 kB\u001b[0m \u001b[31m?\u001b[0m eta \u001b[36m-:--:--\u001b[0m\r\u001b[2K   \u001b[90m━━━━━━━━━━━━━━━━━━━━━━━━━━━━━━━━━━━━━━━━\u001b[0m \u001b[32m84.0/84.0 kB\u001b[0m \u001b[31m2.9 MB/s\u001b[0m eta \u001b[36m0:00:00\u001b[0m\n",
            "\u001b[?25h"
          ]
        }
      ]
    },
    {
      "cell_type": "code",
      "source": [
        "!pip install -q gluonts ujson"
      ],
      "metadata": {
        "id": "0TgT2i0WeoKs",
        "colab": {
          "base_uri": "https://localhost:8080/"
        },
        "outputId": "c07e7f8e-7b86-4939-96be-77f447f96e13"
      },
      "execution_count": 4,
      "outputs": [
        {
          "output_type": "stream",
          "name": "stdout",
          "text": [
            "\u001b[?25l   \u001b[90m━━━━━━━━━━━━━━━━━━━━━━━━━━━━━━━━━━━━━━━━\u001b[0m \u001b[32m0.0/1.5 MB\u001b[0m \u001b[31m?\u001b[0m eta \u001b[36m-:--:--\u001b[0m\r\u001b[2K   \u001b[91m━━━━━━━━━━━━\u001b[0m\u001b[91m╸\u001b[0m\u001b[90m━━━━━━━━━━━━━━━━━━━━━━━━━━━\u001b[0m \u001b[32m0.5/1.5 MB\u001b[0m \u001b[31m14.6 MB/s\u001b[0m eta \u001b[36m0:00:01\u001b[0m\r\u001b[2K   \u001b[90m━━━━━━━━━━━━━━━━━━━━━━━━━━━━━━━━━━━━━━━━\u001b[0m \u001b[32m1.5/1.5 MB\u001b[0m \u001b[31m21.4 MB/s\u001b[0m eta \u001b[36m0:00:00\u001b[0m\n",
            "\u001b[?25h\u001b[?25l   \u001b[90m━━━━━━━━━━━━━━━━━━━━━━━━━━━━━━━━━━━━━━━━\u001b[0m \u001b[32m0.0/53.6 kB\u001b[0m \u001b[31m?\u001b[0m eta \u001b[36m-:--:--\u001b[0m\r\u001b[2K   \u001b[90m━━━━━━━━━━━━━━━━━━━━━━━━━━━━━━━━━━━━━━━━\u001b[0m \u001b[32m53.6/53.6 kB\u001b[0m \u001b[31m1.7 MB/s\u001b[0m eta \u001b[36m0:00:00\u001b[0m\n",
            "\u001b[?25h"
          ]
        }
      ]
    },
    {
      "cell_type": "code",
      "source": [
        "from typing import Iterable, Any\n",
        "from gluonts.transform import Transformation\n",
        "from gluonts.dataset.field_names import FieldName\n",
        "from gluonts.time_feature import time_features_from_frequency_str\n",
        "from gluonts.transform import RemoveFields, AsNumpyArray,AddObservedValuesIndicator,AddTimeFeatures,VstackFeatures,RenameFields\n"
      ],
      "metadata": {
        "id": "ybhGNaVubOH2"
      },
      "execution_count": 18,
      "outputs": []
    },
    {
      "cell_type": "markdown",
      "source": [
        "# Step 0 :GluonTS `FieldName` Arguments:"
      ],
      "metadata": {
        "id": "pHNiq6KKYE3T"
      }
    },
    {
      "cell_type": "code",
      "source": [
        "from gluonts.dataset.field_names import FieldName\n",
        "for fieled in dir(FieldName):\n",
        "  if not fieled.startswith(\"__\") :\n",
        "      print(fieled)"
      ],
      "metadata": {
        "colab": {
          "base_uri": "https://localhost:8080/"
        },
        "id": "3YOJyg3fYLlZ",
        "outputId": "dd3ad702-2234-4a08-9e19-61e921e7f81d"
      },
      "execution_count": 20,
      "outputs": [
        {
          "output_type": "stream",
          "name": "stdout",
          "text": [
            "FEAT_AGE\n",
            "FEAT_CONST\n",
            "FEAT_DYNAMIC\n",
            "FEAT_DYNAMIC_CAT\n",
            "FEAT_DYNAMIC_REAL\n",
            "FEAT_DYNAMIC_REAL_LEGACY\n",
            "FEAT_STATIC_CAT\n",
            "FEAT_STATIC_REAL\n",
            "FEAT_TIME\n",
            "FORECAST_START\n",
            "INFO\n",
            "IS_PAD\n",
            "ITEM_ID\n",
            "OBSERVED_VALUES\n",
            "PAST_FEAT_DYNAMIC\n",
            "PAST_FEAT_DYNAMIC_CAT\n",
            "PAST_FEAT_DYNAMIC_REAL\n",
            "START\n",
            "TARGET\n",
            "TARGET_DIM_INDICATOR\n"
          ]
        }
      ]
    },
    {
      "cell_type": "markdown",
      "source": [
        "\n",
        "| Field Name                 | Required | Description |\n",
        "|----------------------------|----------|-------------|\n",
        "| `START`                   | ✅ Yes  | The start time of the time series. |\n",
        "| `TARGET`                  | ✅ Yes  | The target time series values (what you want to predict). |\n",
        "| `FORECAST_START`          | ❌ No   | The start time of the forecast horizon. |\n",
        "| `FEAT_AGE`                | ❌ No   | Age feature, often used for transformations. |\n",
        "| `FEAT_CONST`              | ❌ No   | Constant feature values across all time steps. |\n",
        "| `FEAT_DYNAMIC`            | ❌ No   | General dynamic feature placeholder. |\n",
        "| `FEAT_DYNAMIC_CAT`        | ❌ No   | Dynamic categorical features (change over time). |\n",
        "| `FEAT_DYNAMIC_REAL`       | ❌ No   | Dynamic real-valued features (change over time). |\n",
        "| `FEAT_DYNAMIC_REAL_LEGACY`| ❌ No   | Legacy version of `FEAT_DYNAMIC_REAL`. |\n",
        "| `FEAT_STATIC_CAT`         | ❌ No   | Categorical static features (do not change over time). |\n",
        "| `FEAT_STATIC_REAL`        | ❌ No   | Real-valued static features. |\n",
        "| `FEAT_TIME`               | ❌ No   | Time-based features (e.g., hour, day of the week). |\n",
        "| `INFO`                    | ❌ No   | Metadata or additional information. |\n",
        "| `IS_PAD`                  | ❌ No   | Marks padded values in a batch (used for batching). |\n",
        "| `ITEM_ID`                 | ❌ No   | Unique identifier for each time series. |\n",
        "| `OBSERVED_VALUES`         | ❌ No   | Indicates missing values in `TARGET` (1 = observed, 0 = missing). |\n",
        "| `PAST_FEAT_DYNAMIC`       | ❌ No   | Dynamic features from past values. |\n",
        "| `PAST_FEAT_DYNAMIC_CAT`   | ❌ No   | Past dynamic categorical features. |\n",
        "| `PAST_FEAT_DYNAMIC_REAL`  | ❌ No   | Past dynamic real-valued features. |\n"
      ],
      "metadata": {
        "id": "jmnfvt4rZytV"
      }
    },
    {
      "cell_type": "markdown",
      "source": [
        "# Part 1: Building a Small Dataset in GluonTS Format and Configuration\n"
      ],
      "metadata": {
        "id": "MAk5A9GZafaD"
      }
    },
    {
      "cell_type": "code",
      "source": [
        "# Sample Data\n",
        "sample_data = [\n",
        "    {\n",
        "        FieldName.TARGET: [[1, 2, np.nan], [4, 5, np.nan]],\n",
        "        FieldName.START: pd.Period(\"2023-01\", freq=\"M\"),\n",
        "        FieldName.FEAT_STATIC_REAL: [0.5],\n",
        "        FieldName.FEAT_DYNAMIC_REAL: [1.0, 2.0, 3.0],\n",
        "        FieldName.FEAT_STATIC_CAT: [10],\n",
        "    },\n",
        "    {\n",
        "        FieldName.TARGET: [[2, 3, 4], [5, 6, 7]],\n",
        "        FieldName.START: pd.Period(\"2024-01\", freq=\"M\"),\n",
        "        FieldName.FEAT_STATIC_REAL: [0.7],\n",
        "        FieldName.FEAT_DYNAMIC_REAL: [1.5, 2.5, 3.5],\n",
        "        FieldName.FEAT_STATIC_CAT: [20],\n",
        "    }\n",
        "]\n",
        "\n",
        "# Example config to remove static categorical and dynamic real features\n",
        "config = {\n",
        "    \"num_static_real_features\": 0,  # Remove\n",
        "    \"num_dynamic_real_features\": 1,  # keep\n",
        "    \"num_static_categorical_features\": 0,  # Remove\n",
        "}"
      ],
      "metadata": {
        "id": "4Uml5IfYMs4Z"
      },
      "execution_count": null,
      "outputs": []
    },
    {
      "cell_type": "code",
      "source": [
        "print(sample_data)"
      ],
      "metadata": {
        "colab": {
          "base_uri": "https://localhost:8080/"
        },
        "id": "FlfH911jbr3Y",
        "outputId": "6a8b55c3-7bf9-4435-829e-82f7ffee5256"
      },
      "execution_count": null,
      "outputs": [
        {
          "output_type": "stream",
          "name": "stdout",
          "text": [
            "[{'target': [[1, 2, nan], [4, 5, nan]], 'start': Period('2023-01', 'M'), 'feat_static_real': [0.5], 'feat_dynamic_real': [1.0, 2.0, 3.0], 'feat_static_cat': [10]}, {'target': [[2, 3, 4], [5, 6, 7]], 'start': Period('2024-01', 'M'), 'feat_static_real': [0.7], 'feat_dynamic_real': [1.5, 2.5, 3.5], 'feat_static_cat': [20]}]\n"
          ]
        }
      ]
    },
    {
      "cell_type": "markdown",
      "source": [
        "## 1. 🧹 Field Cleanup System\n",
        "\n",
        "\n",
        "**🧹 Field Removal Logic**: Automatically detects unused data fields based on config."
      ],
      "metadata": {
        "id": "fZoh3rxoi0kf"
      }
    },
    {
      "cell_type": "code",
      "source": [
        "from gluonts.transform import RemoveFields\n",
        "from typing import List, Dict, Any\n",
        "from gluonts.dataset.field_names import FieldName\n",
        "\n",
        "def determine_fields_to_remove(config: Dict[str, Any]) -> List[str]:\n",
        "    \"\"\"\n",
        "    Determines which fields should be removed based on the config.\n",
        "\n",
        "    Args:\n",
        "        config (Dict[str, Any]): Configuration dictionary with keys that specify feature counts.\n",
        "\n",
        "    Returns:\n",
        "        List[str]: A list of field names to remove.\n",
        "    \"\"\"\n",
        "    fields_to_remove = []\n",
        "    if config.get(\"num_static_real_features\", 0) == 0:\n",
        "        fields_to_remove.append(FieldName.FEAT_STATIC_REAL)\n",
        "    if config.get(\"num_dynamic_real_features\", 0) == 0:\n",
        "        fields_to_remove.append(FieldName.FEAT_DYNAMIC_REAL)\n",
        "    if config.get(\"num_static_categorical_features\", 0) == 0:\n",
        "        fields_to_remove.append(FieldName.FEAT_STATIC_CAT)\n",
        "    return fields_to_remove"
      ],
      "metadata": {
        "id": "o9u0cfV2R_CW"
      },
      "execution_count": null,
      "outputs": []
    },
    {
      "cell_type": "code",
      "source": [
        "features_to_remove = determine_fields_to_remove(config)\n",
        "print(\"Fields to remove:\", features_to_remove )\n"
      ],
      "metadata": {
        "colab": {
          "base_uri": "https://localhost:8080/"
        },
        "id": "d8fNuuk6lA6Q",
        "outputId": "217c6485-4f6c-43f5-b515-f6cc70fbc668"
      },
      "execution_count": null,
      "outputs": [
        {
          "output_type": "stream",
          "name": "stdout",
          "text": [
            "Fields to remove: ['feat_static_real', 'feat_static_cat']\n"
          ]
        }
      ]
    },
    {
      "cell_type": "code",
      "source": [
        "features_to_remove_args = {\n",
        "    \"num_static_real_features\": 0,  # Replace with actual value\n",
        "    \"num_dynamic_real_features\": 0,  # Replace with actual value\n",
        "    \"num_static_categorical_features\": 0  # Replace with actual value\n",
        "}"
      ],
      "metadata": {
        "id": "mIF7wowgwsFC"
      },
      "execution_count": null,
      "outputs": []
    },
    {
      "cell_type": "markdown",
      "source": [
        "##  2 ✂️ RemoveFieldsTask:  Data Trimming Tool"
      ],
      "metadata": {
        "id": "1lbC_bgjjOCn"
      }
    },
    {
      "cell_type": "code",
      "source": [
        "\n",
        "from gluonts.transform import Transformation\n",
        "\n",
        "class RemoveFieldsTask(RemoveFields):\n",
        "    \"\"\"\n",
        "    Wrapper for the RemoveFields transformer that initializes with specified field names\n",
        "    and applies the transformation when called.\n",
        "    \"\"\"\n",
        "    def __init__(self, config: Dict[str, Any]):\n",
        "        \"\"\"\n",
        "        Initializes the RemoveFieldsTask using a config dictionary.\n",
        "\n",
        "        Args:\n",
        "            config (Dict[str, Any]): Configuration for determining fields to remove.\n",
        "        \"\"\"\n",
        "        field_names = determine_fields_to_remove(config)\n",
        "        self.transformer = RemoveFields(field_names=field_names)\n",
        "\n",
        "    def __call__(self, data, is_train: bool):\n",
        "        \"\"\"Apply the transformation and return the result.\"\"\"\n",
        "        return self.transformer(data, is_train=is_train)\n"
      ],
      "metadata": {
        "id": "44NaYgndKFni"
      },
      "execution_count": null,
      "outputs": []
    },
    {
      "cell_type": "code",
      "source": [
        "class RemoveFieldsTask(RemoveFields):\n",
        "    \"\"\"\n",
        "    Wrapper for the RemoveFields transformer that initializes with specified field names\n",
        "    and applies the transformation when called.\n",
        "    \"\"\"\n",
        "    def __init__(self, config: Dict[str, Any]):\n",
        "        \"\"\"\n",
        "\n",
        "        Args:\n",
        "            config (Dict[str, Any]): Configuration for determining fields to remove.\n",
        "        \"\"\"\n",
        "        # Determine the fields to remove based on the configuration\n",
        "        field_names = determine_fields_to_remove(config)\n",
        "\n",
        "        # Call the original RemoveFields class with the processed arguments\n",
        "        super().__init__(field_names=field_names)\n",
        "\n",
        "    def __call__(self, data, is_train: bool):\n",
        "        \"\"\"Apply the transformation and return the result.\"\"\"\n",
        "        # Simply call the base class method with the data and is_train arguments\n",
        "        return super().__call__(data, is_train=is_train)"
      ],
      "metadata": {
        "id": "GpAYhcz9b4ag"
      },
      "execution_count": null,
      "outputs": []
    },
    {
      "cell_type": "markdown",
      "source": [
        "### 🔄 Transformation Process"
      ],
      "metadata": {
        "id": "jplTXO8NoXdE"
      }
    },
    {
      "cell_type": "code",
      "source": [
        "\n",
        "remove_fields_task = RemoveFieldsTask(config)\n",
        "\n",
        "# Apply the transformation\n",
        "transformed_data = list(remove_fields_task.apply(sample_data, is_train=True))\n",
        "\n",
        "\n",
        "## ✅  Print the result\n",
        "print(\"Transformed data:\", transformed_data[1])"
      ],
      "metadata": {
        "colab": {
          "base_uri": "https://localhost:8080/"
        },
        "id": "1N860me6nTFN",
        "outputId": "884a5d76-80ff-4121-b2ca-88b62dcb8e10"
      },
      "execution_count": null,
      "outputs": [
        {
          "output_type": "stream",
          "name": "stdout",
          "text": [
            "Transformed data: {'target': [[2, 3, 4], [5, 6, 7]], 'start': Period('2024-01', 'M'), 'feat_dynamic_real': [1.5, 2.5, 3.5]}\n"
          ]
        }
      ]
    },
    {
      "cell_type": "markdown",
      "source": [
        "###🧼 Display Before & After"
      ],
      "metadata": {
        "id": "NvQV61J0pVL9"
      }
    },
    {
      "cell_type": "code",
      "source": [
        "# Display the input and output.\n",
        "print(\"Input Data:\")\n",
        "for i, item in enumerate(sample_data, start=1):\n",
        "    print(f\"Item {i}: {item}\")\n",
        "\n",
        "print(\"\\nTransformed Data (after removing specified fields):\")\n",
        "for i, item in enumerate(transformed_data, start=1):\n",
        "    print(f\"Item {i}: {item}\")"
      ],
      "metadata": {
        "colab": {
          "base_uri": "https://localhost:8080/"
        },
        "id": "S4ca1Cp8ou2c",
        "outputId": "bf361e90-d195-4c5e-aea5-ec616c996353"
      },
      "execution_count": null,
      "outputs": [
        {
          "output_type": "stream",
          "name": "stdout",
          "text": [
            "Input Data:\n",
            "Item 1: {'target': [[1, 2, nan], [4, 5, nan]], 'start': Period('2023-01', 'M'), 'feat_static_real': [0.5], 'feat_dynamic_real': [1.0, 2.0, 3.0], 'feat_static_cat': [10]}\n",
            "Item 2: {'target': [[2, 3, 4], [5, 6, 7]], 'start': Period('2024-01', 'M'), 'feat_static_real': [0.7], 'feat_dynamic_real': [1.5, 2.5, 3.5], 'feat_static_cat': [20]}\n",
            "\n",
            "Transformed Data (after removing specified fields):\n",
            "Item 1: {'target': [[1, 2, nan], [4, 5, nan]], 'start': Period('2023-01', 'M'), 'feat_dynamic_real': [1.0, 2.0, 3.0]}\n",
            "Item 2: {'target': [[2, 3, 4], [5, 6, 7]], 'start': Period('2024-01', 'M'), 'feat_dynamic_real': [1.5, 2.5, 3.5]}\n"
          ]
        }
      ]
    },
    {
      "cell_type": "code",
      "source": [
        "remove_fields_task = RemoveFieldsTask(config)\n",
        "\n",
        "transformer_chain = Chain([remove_fields_task])\n",
        "\n",
        "# Apply the transformation to each sample using the chain\n",
        "transformed_data = list(transformer_chain(sample_data, is_train=True))\n",
        "\n",
        "# Display the result\n",
        "print(\"After RemoveFields Transformation:\", transformed_data[0])"
      ],
      "metadata": {
        "colab": {
          "base_uri": "https://localhost:8080/"
        },
        "id": "I5kZkc1PdwX1",
        "outputId": "23ee9831-df4b-497e-db4a-8506694ba7b3"
      },
      "execution_count": null,
      "outputs": [
        {
          "output_type": "stream",
          "name": "stdout",
          "text": [
            "After RemoveFields Transformation: {'target': [[1, 2, nan], [4, 5, nan]], 'start': Period('2023-01', 'M'), 'feat_dynamic_real': [1.0, 2.0, 3.0]}\n"
          ]
        }
      ]
    },
    {
      "cell_type": "markdown",
      "source": [],
      "metadata": {
        "id": "6bXaTZFhj-np"
      }
    },
    {
      "cell_type": "markdown",
      "source": [
        "# Part 2"
      ],
      "metadata": {
        "id": "eJkR9dqcwMn2"
      }
    },
    {
      "cell_type": "markdown",
      "source": [],
      "metadata": {
        "id": "Ip564adLrYzH"
      }
    },
    {
      "cell_type": "code",
      "source": [
        "from gluonts.transform import AsNumpyArray\n",
        "from typing import Dict, Any\n",
        "\n",
        "\n",
        "\n",
        "class AsNumpyArrayTask(AsNumpyArray):\n",
        "    \"\"\"\n",
        "    Wrapper for AsNumpyArray transformation.\n",
        "    Allows easy initialization via a config dictionary.\n",
        "    \"\"\"\n",
        "\n",
        "    def __init__(self, config: Dict[str, Any]):\n",
        "        \"\"\"\n",
        "\n",
        "        \"\"\"\n",
        "        # Extract the parameters from the configuration dictionary\n",
        "        field = config.get(\"field\")\n",
        "        expected_ndim = config.get(\"expected_ndim\", 1)\n",
        "        dtype = config.get(\"dtype\", float)\n",
        "\n",
        "        # Ensure the 'field' is provided in the configuration\n",
        "        if field is None:\n",
        "            raise ValueError(\"Config must contain a 'field' key.\")\n",
        "\n",
        "        # Initialize the AsNumpyArray transformer with the parameters\n",
        "        self.transformer = AsNumpyArray(field=field, expected_ndim=expected_ndim, dtype=dtype)\n",
        "\n",
        "    def __call__(self, data, is_train: bool, **kwargs):\n",
        "        \"\"\"Apply the transformation and return the result.\"\"\"\n",
        "        return self.transformer(data, is_train=is_train, **kwargs)\n"
      ],
      "metadata": {
        "id": "FgjdLSc3fX0k"
      },
      "execution_count": null,
      "outputs": []
    },
    {
      "cell_type": "code",
      "source": [
        "# Define the configuration\n",
        "my_config = {\"field\": \"target\", \"expected_ndim\": 2, \"dtype\": float}\n",
        "\n",
        "# Initialize the wrapper\n",
        "as_numpy_array_task = AsNumpyArrayTask(my_config)\n",
        "\n",
        "# Apply the transformation (make sure to pass is_train)\n",
        "transformed_data = list(as_numpy_array_task(sample_data, is_train=True))\n",
        "\n",
        "print(\"Transformed data:\", transformed_data[1])\n"
      ],
      "metadata": {
        "colab": {
          "base_uri": "https://localhost:8080/"
        },
        "id": "xY_XIwdfq87q",
        "outputId": "c1718672-178b-4e50-df2d-9536e0f47ca6"
      },
      "execution_count": null,
      "outputs": [
        {
          "output_type": "stream",
          "name": "stdout",
          "text": [
            "Transformed data: {'target': array([[2., 3., 4.],\n",
            "       [5., 6., 7.]]), 'start': Period('2024-01', 'M'), 'feat_static_real': [0.7], 'feat_dynamic_real': [1.5, 2.5, 3.5], 'feat_static_cat': [20]}\n"
          ]
        }
      ]
    },
    {
      "cell_type": "code",
      "source": [
        "# Display the input and output.\n",
        "print(\"Input Data:\")\n",
        "for i, item in enumerate(sample_data, start=1):\n",
        "    print(f\"Item {i}: {item}\")\n",
        "\n",
        "print(\"\\nTransformed Data :\")\n",
        "for i, item in enumerate(transformed_data, start=1):\n",
        "    print(f\"Item {i}: {item}\")"
      ],
      "metadata": {
        "colab": {
          "base_uri": "https://localhost:8080/"
        },
        "id": "RkwEKK1blWXL",
        "outputId": "6ece5ed7-ffc3-42cf-e7d5-91e97960d63a"
      },
      "execution_count": null,
      "outputs": [
        {
          "output_type": "stream",
          "name": "stdout",
          "text": [
            "Input Data:\n",
            "Item 1: {'target': [[1, 2, nan], [4, 5, nan]], 'start': Period('2023-01', 'M'), 'feat_static_real': [0.5], 'feat_dynamic_real': [1.0, 2.0, 3.0], 'feat_static_cat': [10]}\n",
            "Item 2: {'target': [[2, 3, 4], [5, 6, 7]], 'start': Period('2024-01', 'M'), 'feat_static_real': [0.7], 'feat_dynamic_real': [1.5, 2.5, 3.5], 'feat_static_cat': [20]}\n",
            "\n",
            "Transformed Data :\n",
            "Item 1: {'target': array([[ 1.,  2., nan],\n",
            "       [ 4.,  5., nan]]), 'start': Period('2023-01', 'M'), 'feat_static_real': [0.5], 'feat_dynamic_real': [1.0, 2.0, 3.0], 'feat_static_cat': [10]}\n",
            "Item 2: {'target': array([[2., 3., 4.],\n",
            "       [5., 6., 7.]]), 'start': Period('2024-01', 'M'), 'feat_static_real': [0.7], 'feat_dynamic_real': [1.5, 2.5, 3.5], 'feat_static_cat': [20]}\n"
          ]
        }
      ]
    },
    {
      "cell_type": "markdown",
      "source": [
        "## in the chain"
      ],
      "metadata": {
        "id": "SNQrIoflgXbZ"
      }
    },
    {
      "cell_type": "code",
      "source": [
        "remove_fields_task = RemoveFieldsTask(config)\n",
        "as_numpy_array_task = AsNumpyArrayTask(my_config)\n",
        "\n",
        "transformer_chain = Chain([remove_fields_task, as_numpy_array_task])\n",
        "\n",
        "# Apply the transformation to each sample using the chain\n",
        "transformed_data = list(transformer_chain.apply(sample_data, is_train=True))\n",
        "\n",
        "# Display the result\n",
        "print(\"After RemoveFields Transformation:\", transformed_data[1])"
      ],
      "metadata": {
        "colab": {
          "base_uri": "https://localhost:8080/"
        },
        "id": "Cj2l2z2zgAr-",
        "outputId": "1f579753-d774-4da1-ab22-586376dfb9d5"
      },
      "execution_count": null,
      "outputs": [
        {
          "output_type": "stream",
          "name": "stdout",
          "text": [
            "After RemoveFields Transformation: {'target': array([[2., 3., 4.],\n",
            "       [5., 6., 7.]]), 'start': Period('2024-01', 'M'), 'feat_dynamic_real': [1.5, 2.5, 3.5]}\n"
          ]
        }
      ]
    },
    {
      "cell_type": "code",
      "source": [
        "# Display the input and output.\n",
        "print(\"Input Data:\")\n",
        "for i, item in enumerate(sample_data, start=1):\n",
        "    print(f\"Item {i}: {item}\")\n",
        "\n",
        "print(\"\\nTransformed Data :\")\n",
        "for i, item in enumerate(transformed_data, start=1):\n",
        "    print(f\"Item {i}: {item}\")"
      ],
      "metadata": {
        "colab": {
          "base_uri": "https://localhost:8080/"
        },
        "id": "Kb-meYCag0oP",
        "outputId": "3fac8da7-bd29-474d-c98e-56ee33447cbb"
      },
      "execution_count": null,
      "outputs": [
        {
          "output_type": "stream",
          "name": "stdout",
          "text": [
            "Input Data:\n",
            "Item 1: {'target': [[1, 2, nan], [4, 5, nan]], 'start': Period('2023-01', 'M'), 'feat_static_real': [0.5], 'feat_dynamic_real': [1.0, 2.0, 3.0], 'feat_static_cat': [10]}\n",
            "Item 2: {'target': [[2, 3, 4], [5, 6, 7]], 'start': Period('2024-01', 'M'), 'feat_static_real': [0.7], 'feat_dynamic_real': [1.5, 2.5, 3.5], 'feat_static_cat': [20]}\n",
            "\n",
            "Transformed Data :\n",
            "Item 1: {'target': array([[ 1.,  2., nan],\n",
            "       [ 4.,  5., nan]]), 'start': Period('2023-01', 'M'), 'feat_dynamic_real': [1.0, 2.0, 3.0]}\n",
            "Item 2: {'target': array([[2., 3., 4.],\n",
            "       [5., 6., 7.]]), 'start': Period('2024-01', 'M'), 'feat_dynamic_real': [1.5, 2.5, 3.5]}\n"
          ]
        }
      ]
    },
    {
      "cell_type": "markdown",
      "source": [
        "# Part 3"
      ],
      "metadata": {
        "id": "1B3y_kht8mdy"
      }
    },
    {
      "cell_type": "code",
      "source": [
        "\n",
        "\n",
        "from gluonts.transform import AddObservedValuesIndicator\n",
        "from gluonts.dataset.common import FieldName\n",
        "from typing import Any\n",
        "\n",
        "class HandleNaNsAndAddMask(AddObservedValuesIndicator):\n",
        "    \"\"\"\n",
        "    Wrapper for AddObservedValuesIndicator that initializes with fixed target_field and output_field.\n",
        "    Allows handling NaNs and adding a mask for observed values.\n",
        "    \"\"\"\n",
        "\n",
        "    def __init__(self, target_field=FieldName.TARGET, output_field=FieldName.OBSERVED_VALUES):\n",
        "        \"\"\"\n",
        "        Initializes HandleNaNsAndAddMask with fixed target_field and output_field.\n",
        "\n",
        "        Args:\n",
        "            target_field (str): The field name to apply AddObservedValuesIndicator on.\n",
        "            output_field (str): The output field name to store the mask.\n",
        "        \"\"\"\n",
        "        # Call the parent class constructor with the appropriate parameters\n",
        "        super().__init__(target_field=target_field, output_field=output_field)\n",
        "\n",
        "    def __call__(self, data: Any, is_train: bool, **kwargs) -> Any:\n",
        "        \"\"\"Apply the transformation and return the result.\"\"\"\n",
        "        # Simply call the parent class method\n",
        "        return super().__call__(data, is_train=is_train, **kwargs)\n",
        "\n"
      ],
      "metadata": {
        "id": "WfGgMjOqtvBx"
      },
      "execution_count": null,
      "outputs": []
    },
    {
      "cell_type": "code",
      "source": [
        "# Initialize the wrapper with default field names\n",
        "handle_nans_task = HandleNaNsAndAddMask()\n",
        "\n",
        "# Apply the transformation (make sure to pass is_train)\n",
        "transformed_data = list(handle_nans_task(transformed_data, is_train=True))\n",
        "\n",
        "print(\"Transformed data:\", transformed_data[0])\n"
      ],
      "metadata": {
        "colab": {
          "base_uri": "https://localhost:8080/"
        },
        "id": "dJx3aru3t0wH",
        "outputId": "50c8bde6-99a8-4a0e-a465-a03083387166"
      },
      "execution_count": null,
      "outputs": [
        {
          "output_type": "stream",
          "name": "stdout",
          "text": [
            "Transformed data: {'target': array([[1., 2., 0.],\n",
            "       [4., 5., 0.]]), 'start': Period('2023-01', 'M'), 'feat_dynamic_real': [1.0, 2.0, 3.0], 'observed_values': array([[1., 1., 0.],\n",
            "       [1., 1., 0.]], dtype=float32)}\n"
          ]
        }
      ]
    },
    {
      "cell_type": "markdown",
      "source": [
        "### chain"
      ],
      "metadata": {
        "id": "F4AW1FVTiPp7"
      }
    },
    {
      "cell_type": "code",
      "source": [
        "remove_fields_task = RemoveFieldsTask(config)\n",
        "as_numpy_array_task = AsNumpyArrayTask(my_config)\n",
        "handle_nans_task = HandleNaNsAndAddMask() # it has defult arguemtns\n",
        "\n",
        "transformer_chain = Chain([remove_fields_task, as_numpy_array_task, handle_nans_task])\n",
        "\n",
        "# Apply the transformation to each sample using the chain\n",
        "transformed_data = list(transformer_chain.apply(sample_data, is_train=True))\n",
        "\n",
        "# Display the result\n",
        "print(\"After RemoveFields Transformation:\", transformed_data[0])"
      ],
      "metadata": {
        "colab": {
          "base_uri": "https://localhost:8080/"
        },
        "id": "E10nf2KuiRWS",
        "outputId": "a3165990-bbfe-4ecd-f33f-e6ffb29fd60e"
      },
      "execution_count": null,
      "outputs": [
        {
          "output_type": "stream",
          "name": "stdout",
          "text": [
            "After RemoveFields Transformation: {'target': array([[1., 2., 0.],\n",
            "       [4., 5., 0.]]), 'start': Period('2023-01', 'M'), 'feat_dynamic_real': [1.0, 2.0, 3.0], 'observed_values': array([[1., 1., 0.],\n",
            "       [1., 1., 0.]], dtype=float32)}\n"
          ]
        }
      ]
    },
    {
      "cell_type": "code",
      "source": [
        "# Display the input and output.\n",
        "print(\"Input Data:\")\n",
        "for i, item in enumerate(sample_data, start=1):\n",
        "    print(f\"Item {i}: {item}\")\n",
        "\n",
        "print(\"\\nTransformed Data :\")\n",
        "for i, item in enumerate(transformed_data, start=1):\n",
        "    print(f\"Item {i}: {item}\")"
      ],
      "metadata": {
        "colab": {
          "base_uri": "https://localhost:8080/"
        },
        "id": "XdIaRhx-ioov",
        "outputId": "e39e3d70-59c7-48f3-819e-e6131fbba809"
      },
      "execution_count": null,
      "outputs": [
        {
          "output_type": "stream",
          "name": "stdout",
          "text": [
            "Input Data:\n",
            "Item 1: {'target': [[1, 2, nan], [4, 5, nan]], 'start': Period('2023-01', 'M'), 'feat_static_real': [0.5], 'feat_dynamic_real': [1.0, 2.0, 3.0], 'feat_static_cat': [10]}\n",
            "Item 2: {'target': [[2, 3, 4], [5, 6, 7]], 'start': Period('2024-01', 'M'), 'feat_static_real': [0.7], 'feat_dynamic_real': [1.5, 2.5, 3.5], 'feat_static_cat': [20]}\n",
            "\n",
            "Transformed Data :\n",
            "Item 1: {'target': array([[1., 2., 0.],\n",
            "       [4., 5., 0.]]), 'start': Period('2023-01', 'M'), 'feat_dynamic_real': [1.0, 2.0, 3.0], 'observed_values': array([[1., 1., 0.],\n",
            "       [1., 1., 0.]], dtype=float32)}\n",
            "Item 2: {'target': array([[2., 3., 4.],\n",
            "       [5., 6., 7.]]), 'start': Period('2024-01', 'M'), 'feat_dynamic_real': [1.5, 2.5, 3.5], 'observed_values': array([[1., 1., 1.],\n",
            "       [1., 1., 1.]], dtype=float32)}\n"
          ]
        }
      ]
    },
    {
      "cell_type": "markdown",
      "source": [
        "# 4"
      ],
      "metadata": {
        "id": "9ut0Ew6ZB20T"
      }
    },
    {
      "cell_type": "code",
      "source": [
        "from gluonts.transform import AddTimeFeatures\n",
        "from gluonts.dataset.common import FieldName\n",
        "from gluonts.time_feature import time_features_from_frequency_str\n",
        "from typing import Any\n",
        "\n",
        "class AddTemporalFeatures(AddTimeFeatures):\n",
        "    \"\"\"\n",
        "    Wrapper for AddTimeFeatures transformation.\n",
        "    Adds temporal features such as the month of the year based on the frequency of the dataset.\n",
        "    Only `freq` and `pred_length` are needed as arguments.\n",
        "    \"\"\"\n",
        "\n",
        "    def __init__(self, freq: str, pred_length: int, **kwargs):\n",
        "        \"\"\"\n",
        "        Initializes AddTemporalFeatures with fixed arguments for time features.\n",
        "\n",
        "        Args:\n",
        "            freq (str): The frequency of the data (e.g., 'D' for daily, 'H' for hourly).\n",
        "            pred_length (int): The prediction length for the model.\n",
        "        \"\"\"\n",
        "        # Determine the time features from the frequency string\n",
        "        time_features = time_features_from_frequency_str(freq)\n",
        "\n",
        "        # Call the parent class constructor with fixed field names and time features\n",
        "        super().__init__(\n",
        "            start_field=FieldName.START,\n",
        "            target_field=FieldName.TARGET,\n",
        "            output_field=FieldName.FEAT_TIME,\n",
        "            time_features=time_features,\n",
        "            pred_length=pred_length,  # Prediction length passed here\n",
        "            **kwargs\n",
        "        )\n",
        "\n",
        "    def __call__(self, data: Any, is_train: bool, **kwargs) -> Any:\n",
        "        \"\"\"Apply the transformation and return the result.\"\"\"\n",
        "        # Simply call the parent class's __call__ method\n",
        "        return super().__call__(data, is_train=is_train, **kwargs)\n"
      ],
      "metadata": {
        "id": "70hB3e9guK5d"
      },
      "execution_count": null,
      "outputs": []
    },
    {
      "cell_type": "code",
      "source": [
        "# Initialize the wrapper with required fields and arguments\n",
        "add_temporal_features_task = AddTemporalFeatures(freq='D', pred_length=24)\n",
        "\n",
        "# Apply the transformation (make sure to pass is_train)\n",
        "transformed_data = list(add_temporal_features_task(transformed_data, is_train=True))\n",
        "\n",
        "print(\"Transformed data:\", transformed_data[1])\n"
      ],
      "metadata": {
        "colab": {
          "base_uri": "https://localhost:8080/"
        },
        "id": "RcH0BHgUuOCT",
        "outputId": "43a056df-fab3-4205-fafc-e5cac2a27bc7"
      },
      "execution_count": null,
      "outputs": [
        {
          "output_type": "stream",
          "name": "stdout",
          "text": [
            "Transformed data: {'target': array([[2., 3., 4.],\n",
            "       [5., 6., 7.]]), 'start': Period('2024-01', 'M'), 'feat_dynamic_real': [1.5, 2.5, 3.5], 'observed_values': array([[1., 1., 1.],\n",
            "       [1., 1., 1.]], dtype=float32), 'time_feat': array([[-0.16666667,  0.        ,  0.5       ],\n",
            "       [ 0.5       ,  0.43333334,  0.5       ],\n",
            "       [-0.4178082 , -0.33835617, -0.25342464]], dtype=float32)}\n"
          ]
        }
      ]
    },
    {
      "cell_type": "code",
      "source": [
        "remove_fields_task = RemoveFieldsTask(config)\n",
        "as_numpy_array_task = AsNumpyArrayTask(my_config)\n",
        "handle_nans_task = HandleNaNsAndAddMask() # it has defult arguemtns\n",
        "add_temporal_features_task = AddTemporalFeatures(freq='D', pred_length=24)\n",
        "\n",
        "transformer_chain = Chain([remove_fields_task, as_numpy_array_task, handle_nans_task, add_temporal_features_task])\n",
        "\n",
        "# Apply the transformation to each sample using the chain\n",
        "transformed_data = list(transformer_chain.apply(sample_data, is_train=True))\n",
        "\n",
        "# Display the result\n",
        "print(\"After RemoveFields Transformation:\", transformed_data[0])"
      ],
      "metadata": {
        "colab": {
          "base_uri": "https://localhost:8080/"
        },
        "id": "O_YaVRpHkJS8",
        "outputId": "c7242a11-c6b2-4a8f-b0b5-af0054e979f8"
      },
      "execution_count": null,
      "outputs": [
        {
          "output_type": "stream",
          "name": "stdout",
          "text": [
            "After RemoveFields Transformation: {'target': array([[1., 2., 0.],\n",
            "       [4., 5., 0.]]), 'start': Period('2023-01', 'M'), 'feat_dynamic_real': [1.0, 2.0, 3.0], 'observed_values': array([[1., 1., 0.],\n",
            "       [1., 1., 0.]], dtype=float32), 'time_feat': array([[-0.33333334, -0.33333334,  0.16666667],\n",
            "       [ 0.5       ,  0.4       ,  0.5       ],\n",
            "       [-0.4178082 , -0.3410959 , -0.25616437]], dtype=float32)}\n"
          ]
        }
      ]
    },
    {
      "cell_type": "code",
      "source": [
        "# Display the input and output.\n",
        "print(\"Input Data:\")\n",
        "for i, item in enumerate(sample_data, start=1):\n",
        "    print(f\"Item {i}: {item}\")\n",
        "\n",
        "print(\"\\nTransformed Data :\")\n",
        "for i, item in enumerate(transformed_data, start=1):\n",
        "    print(f\"Item {i}: {item}\")"
      ],
      "metadata": {
        "colab": {
          "base_uri": "https://localhost:8080/"
        },
        "id": "osN3WjjZkZYH",
        "outputId": "2e6adbb2-36ea-4038-b4bb-46270ff6429e"
      },
      "execution_count": null,
      "outputs": [
        {
          "output_type": "stream",
          "name": "stdout",
          "text": [
            "Input Data:\n",
            "Item 1: {'target': [[1, 2, nan], [4, 5, nan]], 'start': Period('2023-01', 'M'), 'feat_static_real': [0.5], 'feat_dynamic_real': [1.0, 2.0, 3.0], 'feat_static_cat': [10]}\n",
            "Item 2: {'target': [[2, 3, 4], [5, 6, 7]], 'start': Period('2024-01', 'M'), 'feat_static_real': [0.7], 'feat_dynamic_real': [1.5, 2.5, 3.5], 'feat_static_cat': [20]}\n",
            "\n",
            "Transformed Data :\n",
            "Item 1: {'target': array([[1., 2., 0.],\n",
            "       [4., 5., 0.]]), 'start': Period('2023-01', 'M'), 'feat_dynamic_real': [1.0, 2.0, 3.0], 'observed_values': array([[1., 1., 0.],\n",
            "       [1., 1., 0.]], dtype=float32), 'time_feat': array([[-0.33333334, -0.33333334,  0.16666667],\n",
            "       [ 0.5       ,  0.4       ,  0.5       ],\n",
            "       [-0.4178082 , -0.3410959 , -0.25616437]], dtype=float32)}\n",
            "Item 2: {'target': array([[2., 3., 4.],\n",
            "       [5., 6., 7.]]), 'start': Period('2024-01', 'M'), 'feat_dynamic_real': [1.5, 2.5, 3.5], 'observed_values': array([[1., 1., 1.],\n",
            "       [1., 1., 1.]], dtype=float32), 'time_feat': array([[-0.16666667,  0.        ,  0.5       ],\n",
            "       [ 0.5       ,  0.43333334,  0.5       ],\n",
            "       [-0.4178082 , -0.33835617, -0.25342464]], dtype=float32)}\n"
          ]
        }
      ]
    },
    {
      "cell_type": "markdown",
      "source": [],
      "metadata": {
        "id": "juxtXW7BIpav"
      }
    },
    {
      "cell_type": "markdown",
      "source": [
        "#5"
      ],
      "metadata": {
        "id": "aBg_zpdSIpeA"
      }
    },
    {
      "cell_type": "code",
      "source": [
        "from gluonts.transform import AddAgeFeature\n",
        "from gluonts.dataset.common import FieldName\n",
        "from typing import Iterable, Any\n",
        "\n",
        "class AddAgeFeatures(AddAgeFeature):\n",
        "    \"\"\"\n",
        "    Wrapper for AddAgeFeature transformation.\n",
        "    Adds an age feature to the time series, indicating the position of each time step.\n",
        "    Only `pred_length` and `log_scale` are needed as arguments.\n",
        "    \"\"\"\n",
        "\n",
        "    def __init__(self, pred_length: int, log_scale: bool = True, **kwargs):\n",
        "        \"\"\"\n",
        "        Initializes AddAgeFeatures with fixed arguments for age feature.\n",
        "\n",
        "        Args:\n",
        "            pred_length (int): The prediction length for the model.\n",
        "            log_scale (bool): Whether to apply log scaling to the age feature.\n",
        "        \"\"\"\n",
        "        # Initialize the parent class with required parameters\n",
        "        super().__init__(\n",
        "            target_field=FieldName.TARGET,\n",
        "            output_field=FieldName.FEAT_AGE,\n",
        "            pred_length=pred_length,\n",
        "            log_scale=log_scale,\n",
        "            **kwargs\n",
        "        )\n",
        "\n",
        "    def __call__(self, data: Iterable[Any], is_train: bool, **kwargs) -> Iterable[Any]:\n",
        "        \"\"\"Apply the transformation and return the result.\"\"\"\n",
        "        return super().__call__(data, is_train=is_train, **kwargs)\n"
      ],
      "metadata": {
        "id": "qE6g1MSPIp6v"
      },
      "execution_count": null,
      "outputs": []
    },
    {
      "cell_type": "code",
      "source": [
        "# Initialize the wrapper with required arguments\n",
        "add_age_features_task = AddAgeFeatures(pred_length=24, log_scale=True)\n",
        "\n",
        "# Apply the transformation (make sure to pass is_train)\n",
        "transformed_data = list(add_age_features_task(transformed_data, is_train=True))\n",
        "\n",
        "print(\"Transformed data:\", transformed_data[0])\n"
      ],
      "metadata": {
        "colab": {
          "base_uri": "https://localhost:8080/"
        },
        "id": "a2Tpr6WOusK_",
        "outputId": "f5080fb3-75c8-4f3a-bd95-0a6a0cef65c2"
      },
      "execution_count": null,
      "outputs": [
        {
          "output_type": "stream",
          "name": "stdout",
          "text": [
            "Transformed data: {'target': array([[1., 2., 0.],\n",
            "       [4., 5., 0.]]), 'start': Period('2023-01', 'M'), 'feat_dynamic_real': [1.0, 2.0, 3.0], 'observed_values': array([[1., 1., 0.],\n",
            "       [1., 1., 0.]], dtype=float32), 'time_feat': array([[-0.33333334, -0.33333334,  0.16666667],\n",
            "       [ 0.5       ,  0.4       ,  0.5       ],\n",
            "       [-0.4178082 , -0.3410959 , -0.25616437]], dtype=float32), 'feat_dynamic_age': array([[0.30103   , 0.47712123, 0.60206   ]], dtype=float32)}\n"
          ]
        }
      ]
    },
    {
      "cell_type": "code",
      "source": [
        "remove_fields_task = RemoveFieldsTask(config)\n",
        "as_numpy_array_task = AsNumpyArrayTask(my_config)\n",
        "handle_nans_task = HandleNaNsAndAddMask() # it has defult arguemtns\n",
        "add_temporal_features_task = AddTemporalFeatures(freq='D', pred_length=24)\n",
        "add_age_features_task = AddAgeFeatures(pred_length=24, log_scale=True)\n",
        "\n",
        "transformer_chain = Chain([remove_fields_task, as_numpy_array_task, handle_nans_task, add_temporal_features_task, add_age_features_task ])\n",
        "\n",
        "# Apply the transformation to each sample using the chain\n",
        "transformed_data = list(transformer_chain.apply(sample_data, is_train=True))\n",
        "\n",
        "# Display the result\n",
        "print(\"After RemoveFields Transformation:\", transformed_data[0])"
      ],
      "metadata": {
        "colab": {
          "base_uri": "https://localhost:8080/"
        },
        "id": "lXuOWWxbmSz1",
        "outputId": "ea81dd4c-caa8-49c0-c77d-c744ed5d2003"
      },
      "execution_count": null,
      "outputs": [
        {
          "output_type": "stream",
          "name": "stdout",
          "text": [
            "After RemoveFields Transformation: {'target': array([[1., 2., 0.],\n",
            "       [4., 5., 0.]]), 'start': Period('2023-01', 'M'), 'feat_dynamic_real': [1.0, 2.0, 3.0], 'observed_values': array([[1., 1., 0.],\n",
            "       [1., 1., 0.]], dtype=float32), 'time_feat': array([[-0.33333334, -0.33333334,  0.16666667],\n",
            "       [ 0.5       ,  0.4       ,  0.5       ],\n",
            "       [-0.4178082 , -0.3410959 , -0.25616437]], dtype=float32), 'feat_dynamic_age': array([[0.30103   , 0.47712123, 0.60206   ]], dtype=float32)}\n"
          ]
        }
      ]
    },
    {
      "cell_type": "code",
      "source": [
        "# Display the input and output.\n",
        "print(\"Input Data:\")\n",
        "for i, item in enumerate(sample_data, start=1):\n",
        "    print(f\"Item {i}: {item}\")\n",
        "\n",
        "print(\"\\nTransformed Data :\")\n",
        "for i, item in enumerate(transformed_data, start=1):\n",
        "    print(f\"Item {i}: {item}\")"
      ],
      "metadata": {
        "colab": {
          "base_uri": "https://localhost:8080/"
        },
        "id": "PeIegNhEmd8c",
        "outputId": "0c71081d-e81e-49e6-b4ca-02d3a449cfa6"
      },
      "execution_count": null,
      "outputs": [
        {
          "output_type": "stream",
          "name": "stdout",
          "text": [
            "Input Data:\n",
            "Item 1: {'target': [[1, 2, nan], [4, 5, nan]], 'start': Period('2023-01', 'M'), 'feat_static_real': [0.5], 'feat_dynamic_real': [1.0, 2.0, 3.0], 'feat_static_cat': [10]}\n",
            "Item 2: {'target': [[2, 3, 4], [5, 6, 7]], 'start': Period('2024-01', 'M'), 'feat_static_real': [0.7], 'feat_dynamic_real': [1.5, 2.5, 3.5], 'feat_static_cat': [20]}\n",
            "\n",
            "Transformed Data :\n",
            "Item 1: {'target': array([[1., 2., 0.],\n",
            "       [4., 5., 0.]]), 'start': Period('2023-01', 'M'), 'feat_dynamic_real': [1.0, 2.0, 3.0], 'observed_values': array([[1., 1., 0.],\n",
            "       [1., 1., 0.]], dtype=float32), 'time_feat': array([[-0.33333334, -0.33333334,  0.16666667],\n",
            "       [ 0.5       ,  0.4       ,  0.5       ],\n",
            "       [-0.4178082 , -0.3410959 , -0.25616437]], dtype=float32), 'feat_dynamic_age': array([[0.30103   , 0.47712123, 0.60206   ]], dtype=float32)}\n",
            "Item 2: {'target': array([[2., 3., 4.],\n",
            "       [5., 6., 7.]]), 'start': Period('2024-01', 'M'), 'feat_dynamic_real': [1.5, 2.5, 3.5], 'observed_values': array([[1., 1., 1.],\n",
            "       [1., 1., 1.]], dtype=float32), 'time_feat': array([[-0.16666667,  0.        ,  0.5       ],\n",
            "       [ 0.5       ,  0.43333334,  0.5       ],\n",
            "       [-0.4178082 , -0.33835617, -0.25342464]], dtype=float32), 'feat_dynamic_age': array([[0.30103   , 0.47712123, 0.60206   ]], dtype=float32)}\n"
          ]
        }
      ]
    },
    {
      "cell_type": "markdown",
      "source": [
        "#6"
      ],
      "metadata": {
        "id": "kZ13CWUpJ5f4"
      }
    },
    {
      "cell_type": "code",
      "source": [
        "from gluonts.transform import VstackFeatures\n",
        "from gluonts.dataset.common import FieldName\n",
        "from typing import Iterable, Any\n",
        "import pandas as pd  # Ensure pandas is imported for handling Periods\n",
        "\n",
        "class VstackTemporalFeatures(VstackFeatures):\n",
        "    \"\"\"\n",
        "    Wrapper for VstackFeatures transformation.\n",
        "    Vertically stacks temporal features (e.g., FEAT_TIME, FEAT_AGE) into the output field `FEAT_TIME`.\n",
        "    \"\"\"\n",
        "\n",
        "    def __init__(self, num_dynamic_real_features: int, **kwargs):\n",
        "        \"\"\"\n",
        "        Initializes VstackTemporalFeatures with input fields and dynamic features.\n",
        "\n",
        "        Args:\n",
        "            num_dynamic_real_features (int): The number of dynamic real features.\n",
        "        \"\"\"\n",
        "        # Determine the input fields, including dynamic features if present\n",
        "        input_fields = [FieldName.FEAT_TIME, FieldName.FEAT_AGE]\n",
        "\n",
        "        if num_dynamic_real_features > 0:\n",
        "            input_fields.append(FieldName.FEAT_DYNAMIC_REAL)\n",
        "\n",
        "        # Initialize the VstackFeatures transformer with input fields\n",
        "        super().__init__(\n",
        "            output_field=FieldName.FEAT_TIME,\n",
        "            input_fields=input_fields,\n",
        "            **kwargs\n",
        "        )\n",
        "\n",
        "    def __call__(self, data: Iterable[Any], is_train: bool, **kwargs) -> Iterable[Any]:\n",
        "        \"\"\"Apply the transformation and return the result.\"\"\"\n",
        "        return super().__call__(data,is_train=is_train, **kwargs)\n",
        "\n"
      ],
      "metadata": {
        "id": "2kqxHRR8J6Ym"
      },
      "execution_count": null,
      "outputs": []
    },
    {
      "cell_type": "code",
      "source": [
        "# Initialize the wrapper with required arguments\n",
        "vstack_features_task = VstackTemporalFeatures(num_dynamic_real_features=3)\n",
        "\n",
        "# Apply the transformation (make sure to pass is_train)\n",
        "transformed_data = list(vstack_features_task(transformed_data, is_train=True))\n",
        "\n",
        "print(\"Transformed data:\", transformed_data[0])\n"
      ],
      "metadata": {
        "colab": {
          "base_uri": "https://localhost:8080/",
          "height": 365
        },
        "id": "YFJdOd_NvSen",
        "outputId": "fa35ab30-274b-4f34-fba6-9c910e3d45b3",
        "collapsed": true
      },
      "execution_count": null,
      "outputs": [
        {
          "output_type": "error",
          "ename": "KeyError",
          "evalue": "'feat_dynamic_age'",
          "traceback": [
            "\u001b[0;31m---------------------------------------------------------------------------\u001b[0m",
            "\u001b[0;31mKeyError\u001b[0m                                  Traceback (most recent call last)",
            "\u001b[0;32m<ipython-input-224-06cf7ce4d4d0>\u001b[0m in \u001b[0;36m<cell line: 0>\u001b[0;34m()\u001b[0m\n\u001b[1;32m      3\u001b[0m \u001b[0;34m\u001b[0m\u001b[0m\n\u001b[1;32m      4\u001b[0m \u001b[0;31m# Apply the transformation (make sure to pass is_train)\u001b[0m\u001b[0;34m\u001b[0m\u001b[0;34m\u001b[0m\u001b[0m\n\u001b[0;32m----> 5\u001b[0;31m \u001b[0mtransformed_data\u001b[0m \u001b[0;34m=\u001b[0m \u001b[0mlist\u001b[0m\u001b[0;34m(\u001b[0m\u001b[0mvstack_features_task\u001b[0m\u001b[0;34m(\u001b[0m\u001b[0mtransformed_data\u001b[0m\u001b[0;34m,\u001b[0m \u001b[0mis_train\u001b[0m\u001b[0;34m=\u001b[0m\u001b[0;32mTrue\u001b[0m\u001b[0;34m)\u001b[0m\u001b[0;34m)\u001b[0m\u001b[0;34m\u001b[0m\u001b[0;34m\u001b[0m\u001b[0m\n\u001b[0m\u001b[1;32m      6\u001b[0m \u001b[0;34m\u001b[0m\u001b[0m\n\u001b[1;32m      7\u001b[0m \u001b[0mprint\u001b[0m\u001b[0;34m(\u001b[0m\u001b[0;34m\"Transformed data:\"\u001b[0m\u001b[0;34m,\u001b[0m \u001b[0mtransformed_data\u001b[0m\u001b[0;34m[\u001b[0m\u001b[0;36m0\u001b[0m\u001b[0;34m]\u001b[0m\u001b[0;34m)\u001b[0m\u001b[0;34m\u001b[0m\u001b[0;34m\u001b[0m\u001b[0m\n",
            "\u001b[0;32m/usr/local/lib/python3.11/dist-packages/gluonts/transform/_base.py\u001b[0m in \u001b[0;36m__call__\u001b[0;34m(self, data_it, is_train)\u001b[0m\n\u001b[1;32m    134\u001b[0m                 \u001b[0;32myield\u001b[0m \u001b[0mself\u001b[0m\u001b[0;34m.\u001b[0m\u001b[0mmap_transform\u001b[0m\u001b[0;34m(\u001b[0m\u001b[0mdata_entry\u001b[0m\u001b[0;34m.\u001b[0m\u001b[0mcopy\u001b[0m\u001b[0;34m(\u001b[0m\u001b[0;34m)\u001b[0m\u001b[0;34m,\u001b[0m \u001b[0mis_train\u001b[0m\u001b[0;34m)\u001b[0m\u001b[0;34m\u001b[0m\u001b[0;34m\u001b[0m\u001b[0m\n\u001b[1;32m    135\u001b[0m             \u001b[0;32mexcept\u001b[0m \u001b[0mException\u001b[0m \u001b[0;32mas\u001b[0m \u001b[0me\u001b[0m\u001b[0;34m:\u001b[0m\u001b[0;34m\u001b[0m\u001b[0;34m\u001b[0m\u001b[0m\n\u001b[0;32m--> 136\u001b[0;31m                 \u001b[0;32mraise\u001b[0m \u001b[0me\u001b[0m\u001b[0;34m\u001b[0m\u001b[0;34m\u001b[0m\u001b[0m\n\u001b[0m\u001b[1;32m    137\u001b[0m \u001b[0;34m\u001b[0m\u001b[0m\n\u001b[1;32m    138\u001b[0m     \u001b[0;34m@\u001b[0m\u001b[0mabc\u001b[0m\u001b[0;34m.\u001b[0m\u001b[0mabstractmethod\u001b[0m\u001b[0;34m\u001b[0m\u001b[0;34m\u001b[0m\u001b[0m\n",
            "\u001b[0;32m/usr/local/lib/python3.11/dist-packages/gluonts/transform/_base.py\u001b[0m in \u001b[0;36m__call__\u001b[0;34m(self, data_it, is_train)\u001b[0m\n\u001b[1;32m    132\u001b[0m         \u001b[0;32mfor\u001b[0m \u001b[0mdata_entry\u001b[0m \u001b[0;32min\u001b[0m \u001b[0mdata_it\u001b[0m\u001b[0;34m:\u001b[0m\u001b[0;34m\u001b[0m\u001b[0;34m\u001b[0m\u001b[0m\n\u001b[1;32m    133\u001b[0m             \u001b[0;32mtry\u001b[0m\u001b[0;34m:\u001b[0m\u001b[0;34m\u001b[0m\u001b[0;34m\u001b[0m\u001b[0m\n\u001b[0;32m--> 134\u001b[0;31m                 \u001b[0;32myield\u001b[0m \u001b[0mself\u001b[0m\u001b[0;34m.\u001b[0m\u001b[0mmap_transform\u001b[0m\u001b[0;34m(\u001b[0m\u001b[0mdata_entry\u001b[0m\u001b[0;34m.\u001b[0m\u001b[0mcopy\u001b[0m\u001b[0;34m(\u001b[0m\u001b[0;34m)\u001b[0m\u001b[0;34m,\u001b[0m \u001b[0mis_train\u001b[0m\u001b[0;34m)\u001b[0m\u001b[0;34m\u001b[0m\u001b[0;34m\u001b[0m\u001b[0m\n\u001b[0m\u001b[1;32m    135\u001b[0m             \u001b[0;32mexcept\u001b[0m \u001b[0mException\u001b[0m \u001b[0;32mas\u001b[0m \u001b[0me\u001b[0m\u001b[0;34m:\u001b[0m\u001b[0;34m\u001b[0m\u001b[0;34m\u001b[0m\u001b[0m\n\u001b[1;32m    136\u001b[0m                 \u001b[0;32mraise\u001b[0m \u001b[0me\u001b[0m\u001b[0;34m\u001b[0m\u001b[0;34m\u001b[0m\u001b[0m\n",
            "\u001b[0;32m/usr/local/lib/python3.11/dist-packages/gluonts/transform/_base.py\u001b[0m in \u001b[0;36mmap_transform\u001b[0;34m(self, data, is_train)\u001b[0m\n\u001b[1;32m    147\u001b[0m \u001b[0;34m\u001b[0m\u001b[0m\n\u001b[1;32m    148\u001b[0m     \u001b[0;32mdef\u001b[0m \u001b[0mmap_transform\u001b[0m\u001b[0;34m(\u001b[0m\u001b[0mself\u001b[0m\u001b[0;34m,\u001b[0m \u001b[0mdata\u001b[0m\u001b[0;34m:\u001b[0m \u001b[0mDataEntry\u001b[0m\u001b[0;34m,\u001b[0m \u001b[0mis_train\u001b[0m\u001b[0;34m:\u001b[0m \u001b[0mbool\u001b[0m\u001b[0;34m)\u001b[0m \u001b[0;34m->\u001b[0m \u001b[0mDataEntry\u001b[0m\u001b[0;34m:\u001b[0m\u001b[0;34m\u001b[0m\u001b[0;34m\u001b[0m\u001b[0m\n\u001b[0;32m--> 149\u001b[0;31m         \u001b[0;32mreturn\u001b[0m \u001b[0mself\u001b[0m\u001b[0;34m.\u001b[0m\u001b[0mtransform\u001b[0m\u001b[0;34m(\u001b[0m\u001b[0mdata\u001b[0m\u001b[0;34m)\u001b[0m\u001b[0;34m\u001b[0m\u001b[0;34m\u001b[0m\u001b[0m\n\u001b[0m\u001b[1;32m    150\u001b[0m \u001b[0;34m\u001b[0m\u001b[0m\n\u001b[1;32m    151\u001b[0m     \u001b[0;34m@\u001b[0m\u001b[0mabc\u001b[0m\u001b[0;34m.\u001b[0m\u001b[0mabstractmethod\u001b[0m\u001b[0;34m\u001b[0m\u001b[0;34m\u001b[0m\u001b[0m\n",
            "\u001b[0;32m/usr/local/lib/python3.11/dist-packages/gluonts/transform/convert.py\u001b[0m in \u001b[0;36mtransform\u001b[0;34m(self, data)\u001b[0m\n\u001b[1;32m    212\u001b[0m \u001b[0;34m\u001b[0m\u001b[0m\n\u001b[1;32m    213\u001b[0m     \u001b[0;32mdef\u001b[0m \u001b[0mtransform\u001b[0m\u001b[0;34m(\u001b[0m\u001b[0mself\u001b[0m\u001b[0;34m,\u001b[0m \u001b[0mdata\u001b[0m\u001b[0;34m:\u001b[0m \u001b[0mDataEntry\u001b[0m\u001b[0;34m)\u001b[0m \u001b[0;34m->\u001b[0m \u001b[0mDataEntry\u001b[0m\u001b[0;34m:\u001b[0m\u001b[0;34m\u001b[0m\u001b[0;34m\u001b[0m\u001b[0m\n\u001b[0;32m--> 214\u001b[0;31m         r = [\n\u001b[0m\u001b[1;32m    215\u001b[0m             \u001b[0mdata\u001b[0m\u001b[0;34m[\u001b[0m\u001b[0mfname\u001b[0m\u001b[0;34m]\u001b[0m\u001b[0;34m\u001b[0m\u001b[0;34m\u001b[0m\u001b[0m\n\u001b[1;32m    216\u001b[0m             \u001b[0;32mfor\u001b[0m \u001b[0mfname\u001b[0m \u001b[0;32min\u001b[0m \u001b[0mself\u001b[0m\u001b[0;34m.\u001b[0m\u001b[0minput_fields\u001b[0m\u001b[0;34m\u001b[0m\u001b[0;34m\u001b[0m\u001b[0m\n",
            "\u001b[0;32m/usr/local/lib/python3.11/dist-packages/gluonts/transform/convert.py\u001b[0m in \u001b[0;36m<listcomp>\u001b[0;34m(.0)\u001b[0m\n\u001b[1;32m    215\u001b[0m             \u001b[0mdata\u001b[0m\u001b[0;34m[\u001b[0m\u001b[0mfname\u001b[0m\u001b[0;34m]\u001b[0m\u001b[0;34m\u001b[0m\u001b[0;34m\u001b[0m\u001b[0m\n\u001b[1;32m    216\u001b[0m             \u001b[0;32mfor\u001b[0m \u001b[0mfname\u001b[0m \u001b[0;32min\u001b[0m \u001b[0mself\u001b[0m\u001b[0;34m.\u001b[0m\u001b[0minput_fields\u001b[0m\u001b[0;34m\u001b[0m\u001b[0;34m\u001b[0m\u001b[0m\n\u001b[0;32m--> 217\u001b[0;31m             \u001b[0;32mif\u001b[0m \u001b[0mdata\u001b[0m\u001b[0;34m[\u001b[0m\u001b[0mfname\u001b[0m\u001b[0;34m]\u001b[0m \u001b[0;32mis\u001b[0m \u001b[0;32mnot\u001b[0m \u001b[0;32mNone\u001b[0m\u001b[0;34m\u001b[0m\u001b[0;34m\u001b[0m\u001b[0m\n\u001b[0m\u001b[1;32m    218\u001b[0m         ]\n\u001b[1;32m    219\u001b[0m         \u001b[0moutput\u001b[0m \u001b[0;34m=\u001b[0m \u001b[0mnp\u001b[0m\u001b[0;34m.\u001b[0m\u001b[0mvstack\u001b[0m\u001b[0;34m(\u001b[0m\u001b[0mr\u001b[0m\u001b[0;34m)\u001b[0m \u001b[0;32mif\u001b[0m \u001b[0;32mnot\u001b[0m \u001b[0mself\u001b[0m\u001b[0;34m.\u001b[0m\u001b[0mh_stack\u001b[0m \u001b[0;32melse\u001b[0m \u001b[0mnp\u001b[0m\u001b[0;34m.\u001b[0m\u001b[0mhstack\u001b[0m\u001b[0;34m(\u001b[0m\u001b[0mr\u001b[0m\u001b[0;34m)\u001b[0m\u001b[0;34m\u001b[0m\u001b[0;34m\u001b[0m\u001b[0m\n",
            "\u001b[0;31mKeyError\u001b[0m: 'feat_dynamic_age'"
          ]
        }
      ]
    },
    {
      "cell_type": "code",
      "source": [
        "remove_fields_task = RemoveFieldsTask(config)\n",
        "as_numpy_array_task = AsNumpyArrayTask(my_config)\n",
        "handle_nans_task = HandleNaNsAndAddMask() # it has defult arguemtns\n",
        "add_temporal_features_task = AddTemporalFeatures(freq='D', pred_length=24)\n",
        "add_age_features_task = AddAgeFeatures(pred_length=24, log_scale=True)\n",
        "vstack_features_task = VstackTemporalFeatures(num_dynamic_real_features=3)\n",
        "\n",
        "transformer_chain = Chain([remove_fields_task, as_numpy_array_task, handle_nans_task, add_temporal_features_task, add_age_features_task, vstack_features_task ])\n",
        "\n",
        "# Apply the transformation to each sample using the chain\n",
        "transformed_data = list(transformer_chain.apply(sample_data, is_train=True))\n",
        "\n",
        "# Display the result\n",
        "print(\"After RemoveFields Transformation:\", transformed_data[0])"
      ],
      "metadata": {
        "colab": {
          "base_uri": "https://localhost:8080/"
        },
        "id": "V8JlobWHnu2g",
        "outputId": "f2d41af3-81dd-42c5-a2f5-ae4f4f92344f"
      },
      "execution_count": null,
      "outputs": [
        {
          "output_type": "stream",
          "name": "stdout",
          "text": [
            "After RemoveFields Transformation: {'target': array([[1., 2., 0.],\n",
            "       [4., 5., 0.]]), 'start': Period('2023-01', 'M'), 'observed_values': array([[1., 1., 0.],\n",
            "       [1., 1., 0.]], dtype=float32), 'time_feat': array([[-0.33333334, -0.33333334,  0.16666667],\n",
            "       [ 0.5       ,  0.40000001,  0.5       ],\n",
            "       [-0.4178082 , -0.34109589, -0.25616437],\n",
            "       [ 0.30103001,  0.47712123,  0.60206002],\n",
            "       [ 1.        ,  2.        ,  3.        ]])}\n"
          ]
        }
      ]
    },
    {
      "cell_type": "code",
      "source": [],
      "metadata": {
        "id": "WdNJ5OAtvPy6"
      },
      "execution_count": null,
      "outputs": []
    },
    {
      "cell_type": "markdown",
      "source": [
        "#7"
      ],
      "metadata": {
        "id": "h1UUS4xvNCjb"
      }
    },
    {
      "cell_type": "code",
      "source": [
        "from gluonts.transform import RenameFields\n",
        "from gluonts.dataset.common import FieldName\n",
        "from typing import Iterable, Any\n",
        "\n",
        "class RenameTemporalFeatures(RenameFields):\n",
        "    \"\"\"\n",
        "    Wrapper for RenameFields transformation to rename fields to match HuggingFace names.\n",
        "    The field names are predefined in a dictionary for mapping.\n",
        "    \"\"\"\n",
        "\n",
        "    def __init__(self, **kwargs):\n",
        "        \"\"\"\n",
        "        Initializes RenameTemporalFeatures with a predefined field name mapping.\n",
        "\n",
        "        Args:\n",
        "            **kwargs: Any additional arguments for customization if needed.\n",
        "        \"\"\"\n",
        "        # Define the field name mapping\n",
        "        mapping = {\n",
        "            FieldName.FEAT_STATIC_CAT: \"static_categorical_features\",\n",
        "            FieldName.FEAT_STATIC_REAL: \"static_real_features\",\n",
        "            FieldName.FEAT_TIME: \"time_features\",\n",
        "            FieldName.TARGET: \"values\",\n",
        "            FieldName.OBSERVED_VALUES: \"observed_mask\",\n",
        "        }\n",
        "\n",
        "        # Initialize the RenameFields transformer with the mapping\n",
        "        super().__init__(mapping=mapping, **kwargs)\n",
        "\n",
        "    def __call__(self, data: Iterable[Any], is_train: bool, **kwargs) -> Iterable[Any]:\n",
        "        \"\"\"Apply the transformation and return the result.\"\"\"\n",
        "        return super().__call__(data, is_train=is_train, **kwargs)\n"
      ],
      "metadata": {
        "id": "dVoB1AoqL71E"
      },
      "execution_count": null,
      "outputs": []
    },
    {
      "cell_type": "code",
      "source": [
        "# Initialize the wrapper with necessary arguments\n",
        "rename_temporal_features_task = RenameTemporalFeatures()\n",
        "\n",
        "# Apply the transformation (make sure to pass is_train)\n",
        "transformed_data = list(rename_temporal_features_task(transformed_data, is_train=True))\n",
        "\n",
        "print(\"Transformed data:\", transformed_data[0])\n"
      ],
      "metadata": {
        "colab": {
          "base_uri": "https://localhost:8080/"
        },
        "id": "SzOutm0wvmPn",
        "outputId": "178babd5-f29f-4020-9d18-d29ad7e62789"
      },
      "execution_count": null,
      "outputs": [
        {
          "output_type": "stream",
          "name": "stdout",
          "text": [
            "Transformed data: {'start': Period('2023-01', 'M'), 'time_features': array([[-0.33333334, -0.33333334,  0.16666667],\n",
            "       [ 0.5       ,  0.40000001,  0.5       ],\n",
            "       [-0.4178082 , -0.34109589, -0.25616437],\n",
            "       [ 0.30103001,  0.47712123,  0.60206002],\n",
            "       [ 1.        ,  2.        ,  3.        ]]), 'values': array([[1., 2., 0.],\n",
            "       [4., 5., 0.]]), 'observed_mask': array([[1., 1., 0.],\n",
            "       [1., 1., 0.]], dtype=float32)}\n"
          ]
        }
      ]
    },
    {
      "cell_type": "code",
      "source": [
        "remove_fields_task = RemoveFieldsTask(config)\n",
        "as_numpy_array_task = AsNumpyArrayTask(my_config)\n",
        "handle_nans_task = HandleNaNsAndAddMask() # it has defult arguemtns\n",
        "add_temporal_features_task = AddTemporalFeatures(freq='D', pred_length=24)\n",
        "add_age_features_task = AddAgeFeatures(pred_length=24, log_scale=True)\n",
        "vstack_features_task = VstackTemporalFeatures(num_dynamic_real_features=3)\n",
        "rename_temporal_features_task = RenameTemporalFeatures()\n",
        "\n",
        "transformer_chain = Chain([remove_fields_task, as_numpy_array_task, handle_nans_task, add_temporal_features_task,\n",
        "                           add_age_features_task, vstack_features_task,rename_temporal_features_task  ])\n",
        "\n",
        "# Apply the transformation to each sample using the chain\n",
        "transformed_data = list(transformer_chain.apply(sample_data, is_train=True))\n",
        "\n",
        "# Display the result\n",
        "print(\"After RemoveFields Transformation:\", transformed_data[0])"
      ],
      "metadata": {
        "colab": {
          "base_uri": "https://localhost:8080/"
        },
        "id": "p0VbNyEzo7w9",
        "outputId": "1558d461-4bd1-4bef-c55c-a4f86cdec512"
      },
      "execution_count": null,
      "outputs": [
        {
          "output_type": "stream",
          "name": "stdout",
          "text": [
            "After RemoveFields Transformation: {'start': Period('2023-01', 'M'), 'time_features': array([[-0.33333334, -0.33333334,  0.16666667],\n",
            "       [ 0.5       ,  0.40000001,  0.5       ],\n",
            "       [-0.4178082 , -0.34109589, -0.25616437],\n",
            "       [ 0.30103001,  0.47712123,  0.60206002],\n",
            "       [ 1.        ,  2.        ,  3.        ]]), 'values': array([[1., 2., 0.],\n",
            "       [4., 5., 0.]]), 'observed_mask': array([[1., 1., 0.],\n",
            "       [1., 1., 0.]], dtype=float32)}\n"
          ]
        }
      ]
    },
    {
      "cell_type": "markdown",
      "source": [],
      "metadata": {
        "id": "UZa52YhpOqk2"
      }
    },
    {
      "cell_type": "markdown",
      "source": [],
      "metadata": {
        "id": "neuFBa-QOqno"
      }
    },
    {
      "cell_type": "code",
      "source": [],
      "metadata": {
        "id": "d0rYTwnmzi56"
      },
      "execution_count": null,
      "outputs": []
    },
    {
      "cell_type": "code",
      "source": [],
      "metadata": {
        "id": "FFDL3Ntfegtu"
      },
      "execution_count": null,
      "outputs": []
    },
    {
      "cell_type": "code",
      "source": [],
      "metadata": {
        "id": "J93dXOdxegwm"
      },
      "execution_count": null,
      "outputs": []
    },
    {
      "cell_type": "code",
      "source": [],
      "metadata": {
        "id": "U8Et4wtIegzd"
      },
      "execution_count": null,
      "outputs": []
    },
    {
      "cell_type": "code",
      "source": [],
      "metadata": {
        "id": "71XsPa2ueg2O"
      },
      "execution_count": null,
      "outputs": []
    }
  ]
}